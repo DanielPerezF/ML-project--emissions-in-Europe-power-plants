{
 "cells": [
  {
   "cell_type": "code",
   "execution_count": 92,
   "metadata": {},
   "outputs": [],
   "source": [
    "import pandas as pd\n",
    "import numpy as np\n",
    "import matplotlib.pyplot as plt"
   ]
  },
  {
   "cell_type": "markdown",
   "metadata": {},
   "source": [
    "## Read data"
   ]
  },
  {
   "cell_type": "code",
   "execution_count": 93,
   "metadata": {},
   "outputs": [],
   "source": [
    "data = pd.read_csv('MODELLING DATA/model_data.csv')"
   ]
  },
  {
   "cell_type": "markdown",
   "metadata": {},
   "source": [
    "## Train and test datasets"
   ]
  },
  {
   "cell_type": "code",
   "execution_count": 94,
   "metadata": {},
   "outputs": [],
   "source": [
    "from sklearn.model_selection import train_test_split\n",
    "\n",
    "# Remove total emissions specific emissions would be linearly dependent.\n",
    "# Leave capacity as a feature as the size of a plant might impact on its specific emissions\n",
    "X = data.drop('co2emitted', axis=1)\n",
    "y = data['co2emitted'] / data['capacity_g']\n",
    "\n",
    "X_train, X_test, y_train, y_test = train_test_split(X, y, random_state=10, shuffle=True)"
   ]
  },
  {
   "cell_type": "code",
   "execution_count": 95,
   "metadata": {},
   "outputs": [
    {
     "name": "stdout",
     "output_type": "stream",
     "text": [
      "<class 'pandas.core.frame.DataFrame'>\n",
      "Int64Index: 4711 entries, 589 to 1289\n",
      "Data columns (total 23 columns):\n",
      " #   Column             Non-Null Count  Dtype  \n",
      "---  ------             --------------  -----  \n",
      " 0   type_g             4711 non-null   object \n",
      " 1   Generation         4711 non-null   int64  \n",
      " 2   cf                 4711 non-null   float64\n",
      " 3   time_coverage      4711 non-null   float64\n",
      " 4   capacity_p         4711 non-null   float64\n",
      " 5   capacity_g         4711 non-null   float64\n",
      " 6   lat                4696 non-null   float64\n",
      " 7   lon                4696 non-null   float64\n",
      " 8   country            4711 non-null   object \n",
      " 9   status_g           4711 non-null   object \n",
      " 10  year_commissioned  3869 non-null   float64\n",
      " 11  water_type         4711 non-null   object \n",
      " 12  cooling_type       3191 non-null   object \n",
      " 13  water_withdrawal   3524 non-null   float64\n",
      " 14  water_consumption  3524 non-null   float64\n",
      " 15  min_load           4684 non-null   float64\n",
      " 16  ramp_up            4684 non-null   float64\n",
      " 17  ramp_down          4684 non-null   float64\n",
      " 18  minimum_up_time    4672 non-null   float64\n",
      " 19  minimum_down_time  4672 non-null   float64\n",
      " 20  eff                4711 non-null   float64\n",
      " 21  best_source        2842 non-null   object \n",
      " 22  Renewable          4711 non-null   int64  \n",
      "dtypes: float64(15), int64(2), object(6)\n",
      "memory usage: 883.3+ KB\n"
     ]
    }
   ],
   "source": [
    "X_train.info()"
   ]
  },
  {
   "cell_type": "markdown",
   "metadata": {},
   "source": [
    "## Preprocessor"
   ]
  },
  {
   "cell_type": "code",
   "execution_count": 96,
   "metadata": {},
   "outputs": [
    {
     "data": {
      "text/plain": [
       "Index(['type_g', 'country', 'status_g', 'water_type', 'cooling_type',\n",
       "       'best_source'],\n",
       "      dtype='object')"
      ]
     },
     "execution_count": 96,
     "metadata": {},
     "output_type": "execute_result"
    }
   ],
   "source": [
    "categorical = X_train.select_dtypes(include=['object']).columns\n",
    "numeric = X_train.select_dtypes(include=['int64','float64']).columns\n",
    "categorical"
   ]
  },
  {
   "cell_type": "code",
   "execution_count": 97,
   "metadata": {},
   "outputs": [],
   "source": [
    "from sklearn.compose import ColumnTransformer\n",
    "from sklearn.preprocessing import OneHotEncoder\n",
    "from sklearn.preprocessing import StandardScaler\n",
    "from sklearn.pipeline import Pipeline\n",
    "from sklearn.impute import SimpleImputer\n",
    "\n",
    "# Create a list of categorical column names and numeric column names\n",
    "categorical_columns = list(categorical)\n",
    "numeric_columns = list(numeric)\n",
    "\n",
    "# Create transformers for categorical and numeric columns\n",
    "categorical_transformer = Pipeline([\n",
    "    ('imputer', SimpleImputer(strategy='most_frequent')),\n",
    "    ('onehot', OneHotEncoder())\n",
    "])\n",
    "\n",
    "numeric_transformer = Pipeline([\n",
    "    ('imputer', SimpleImputer(strategy='mean')),\n",
    "])\n",
    "\n",
    "# Create a column transformer that applies transformers to the respective column types\n",
    "preprocessor = ColumnTransformer(\n",
    "    transformers=[\n",
    "        ('cat', categorical_transformer, categorical_columns),\n",
    "        ('num', numeric_transformer, numeric_columns)\n",
    "    ])\n",
    "\n",
    "# Fit and transform the data\n",
    "X_train_trans_np = preprocessor.fit_transform(X_train)\n",
    "X_train_trans = pd.DataFrame(X_train_trans_np, columns=preprocessor.get_feature_names_out())"
   ]
  },
  {
   "cell_type": "code",
   "execution_count": 98,
   "metadata": {},
   "outputs": [
    {
     "data": {
      "text/html": [
       "<div>\n",
       "<style scoped>\n",
       "    .dataframe tbody tr th:only-of-type {\n",
       "        vertical-align: middle;\n",
       "    }\n",
       "\n",
       "    .dataframe tbody tr th {\n",
       "        vertical-align: top;\n",
       "    }\n",
       "\n",
       "    .dataframe thead th {\n",
       "        text-align: right;\n",
       "    }\n",
       "</style>\n",
       "<table border=\"1\" class=\"dataframe\">\n",
       "  <thead>\n",
       "    <tr style=\"text-align: right;\">\n",
       "      <th></th>\n",
       "      <th>cat__type_g_Biomass</th>\n",
       "      <th>cat__type_g_Fossil Brown coal/Lignite</th>\n",
       "      <th>cat__type_g_Fossil Gas</th>\n",
       "      <th>cat__type_g_Fossil Hard coal</th>\n",
       "      <th>cat__type_g_Fossil Oil</th>\n",
       "      <th>cat__type_g_Fossil Oil shale</th>\n",
       "      <th>cat__type_g_Hydro Pumped Storage</th>\n",
       "      <th>cat__type_g_Hydro Run-of-river and poundage</th>\n",
       "      <th>cat__type_g_Hydro Water Reservoir</th>\n",
       "      <th>cat__type_g_Nuclear</th>\n",
       "      <th>...</th>\n",
       "      <th>num__year_commissioned</th>\n",
       "      <th>num__water_withdrawal</th>\n",
       "      <th>num__water_consumption</th>\n",
       "      <th>num__min_load</th>\n",
       "      <th>num__ramp_up</th>\n",
       "      <th>num__ramp_down</th>\n",
       "      <th>num__minimum_up_time</th>\n",
       "      <th>num__minimum_down_time</th>\n",
       "      <th>num__eff</th>\n",
       "      <th>num__Renewable</th>\n",
       "    </tr>\n",
       "  </thead>\n",
       "  <tbody>\n",
       "    <tr>\n",
       "      <th>0</th>\n",
       "      <td>0.0</td>\n",
       "      <td>0.0</td>\n",
       "      <td>0.0</td>\n",
       "      <td>0.0</td>\n",
       "      <td>0.0</td>\n",
       "      <td>0.0</td>\n",
       "      <td>0.0</td>\n",
       "      <td>0.0</td>\n",
       "      <td>0.0</td>\n",
       "      <td>1.0</td>\n",
       "      <td>...</td>\n",
       "      <td>1985.000000</td>\n",
       "      <td>167.870000</td>\n",
       "      <td>1.020000</td>\n",
       "      <td>0.498</td>\n",
       "      <td>0.009</td>\n",
       "      <td>-0.012</td>\n",
       "      <td>1694.0</td>\n",
       "      <td>342.0</td>\n",
       "      <td>1.00</td>\n",
       "      <td>0.0</td>\n",
       "    </tr>\n",
       "    <tr>\n",
       "      <th>1</th>\n",
       "      <td>0.0</td>\n",
       "      <td>0.0</td>\n",
       "      <td>0.0</td>\n",
       "      <td>0.0</td>\n",
       "      <td>0.0</td>\n",
       "      <td>0.0</td>\n",
       "      <td>1.0</td>\n",
       "      <td>0.0</td>\n",
       "      <td>0.0</td>\n",
       "      <td>0.0</td>\n",
       "      <td>...</td>\n",
       "      <td>1983.071078</td>\n",
       "      <td>42.976691</td>\n",
       "      <td>0.980236</td>\n",
       "      <td>0.078</td>\n",
       "      <td>0.015</td>\n",
       "      <td>-0.015</td>\n",
       "      <td>60.0</td>\n",
       "      <td>57.0</td>\n",
       "      <td>1.00</td>\n",
       "      <td>1.0</td>\n",
       "    </tr>\n",
       "    <tr>\n",
       "      <th>2</th>\n",
       "      <td>0.0</td>\n",
       "      <td>0.0</td>\n",
       "      <td>0.0</td>\n",
       "      <td>1.0</td>\n",
       "      <td>0.0</td>\n",
       "      <td>0.0</td>\n",
       "      <td>0.0</td>\n",
       "      <td>0.0</td>\n",
       "      <td>0.0</td>\n",
       "      <td>0.0</td>\n",
       "      <td>...</td>\n",
       "      <td>1969.000000</td>\n",
       "      <td>2.400000</td>\n",
       "      <td>1.870000</td>\n",
       "      <td>0.479</td>\n",
       "      <td>0.009</td>\n",
       "      <td>-0.013</td>\n",
       "      <td>221.0</td>\n",
       "      <td>134.0</td>\n",
       "      <td>0.36</td>\n",
       "      <td>0.0</td>\n",
       "    </tr>\n",
       "    <tr>\n",
       "      <th>3</th>\n",
       "      <td>0.0</td>\n",
       "      <td>0.0</td>\n",
       "      <td>0.0</td>\n",
       "      <td>0.0</td>\n",
       "      <td>0.0</td>\n",
       "      <td>0.0</td>\n",
       "      <td>0.0</td>\n",
       "      <td>1.0</td>\n",
       "      <td>0.0</td>\n",
       "      <td>0.0</td>\n",
       "      <td>...</td>\n",
       "      <td>1983.071078</td>\n",
       "      <td>42.976691</td>\n",
       "      <td>0.980236</td>\n",
       "      <td>0.200</td>\n",
       "      <td>0.015</td>\n",
       "      <td>-0.015</td>\n",
       "      <td>307.0</td>\n",
       "      <td>63.0</td>\n",
       "      <td>1.00</td>\n",
       "      <td>1.0</td>\n",
       "    </tr>\n",
       "    <tr>\n",
       "      <th>4</th>\n",
       "      <td>0.0</td>\n",
       "      <td>1.0</td>\n",
       "      <td>0.0</td>\n",
       "      <td>0.0</td>\n",
       "      <td>0.0</td>\n",
       "      <td>0.0</td>\n",
       "      <td>0.0</td>\n",
       "      <td>0.0</td>\n",
       "      <td>0.0</td>\n",
       "      <td>0.0</td>\n",
       "      <td>...</td>\n",
       "      <td>1981.000000</td>\n",
       "      <td>2.220000</td>\n",
       "      <td>1.810000</td>\n",
       "      <td>0.540</td>\n",
       "      <td>0.010</td>\n",
       "      <td>-0.014</td>\n",
       "      <td>363.0</td>\n",
       "      <td>198.0</td>\n",
       "      <td>0.28</td>\n",
       "      <td>0.0</td>\n",
       "    </tr>\n",
       "    <tr>\n",
       "      <th>...</th>\n",
       "      <td>...</td>\n",
       "      <td>...</td>\n",
       "      <td>...</td>\n",
       "      <td>...</td>\n",
       "      <td>...</td>\n",
       "      <td>...</td>\n",
       "      <td>...</td>\n",
       "      <td>...</td>\n",
       "      <td>...</td>\n",
       "      <td>...</td>\n",
       "      <td>...</td>\n",
       "      <td>...</td>\n",
       "      <td>...</td>\n",
       "      <td>...</td>\n",
       "      <td>...</td>\n",
       "      <td>...</td>\n",
       "      <td>...</td>\n",
       "      <td>...</td>\n",
       "      <td>...</td>\n",
       "      <td>...</td>\n",
       "      <td>...</td>\n",
       "    </tr>\n",
       "    <tr>\n",
       "      <th>4706</th>\n",
       "      <td>0.0</td>\n",
       "      <td>0.0</td>\n",
       "      <td>1.0</td>\n",
       "      <td>0.0</td>\n",
       "      <td>0.0</td>\n",
       "      <td>0.0</td>\n",
       "      <td>0.0</td>\n",
       "      <td>0.0</td>\n",
       "      <td>0.0</td>\n",
       "      <td>0.0</td>\n",
       "      <td>...</td>\n",
       "      <td>2009.000000</td>\n",
       "      <td>43.070000</td>\n",
       "      <td>0.380000</td>\n",
       "      <td>0.308</td>\n",
       "      <td>0.012</td>\n",
       "      <td>-0.014</td>\n",
       "      <td>152.0</td>\n",
       "      <td>76.0</td>\n",
       "      <td>0.54</td>\n",
       "      <td>0.0</td>\n",
       "    </tr>\n",
       "    <tr>\n",
       "      <th>4707</th>\n",
       "      <td>0.0</td>\n",
       "      <td>0.0</td>\n",
       "      <td>0.0</td>\n",
       "      <td>0.0</td>\n",
       "      <td>0.0</td>\n",
       "      <td>0.0</td>\n",
       "      <td>0.0</td>\n",
       "      <td>0.0</td>\n",
       "      <td>0.0</td>\n",
       "      <td>1.0</td>\n",
       "      <td>...</td>\n",
       "      <td>1988.000000</td>\n",
       "      <td>4.170000</td>\n",
       "      <td>2.540000</td>\n",
       "      <td>0.498</td>\n",
       "      <td>0.009</td>\n",
       "      <td>-0.012</td>\n",
       "      <td>1694.0</td>\n",
       "      <td>342.0</td>\n",
       "      <td>1.00</td>\n",
       "      <td>0.0</td>\n",
       "    </tr>\n",
       "    <tr>\n",
       "      <th>4708</th>\n",
       "      <td>0.0</td>\n",
       "      <td>0.0</td>\n",
       "      <td>1.0</td>\n",
       "      <td>0.0</td>\n",
       "      <td>0.0</td>\n",
       "      <td>0.0</td>\n",
       "      <td>0.0</td>\n",
       "      <td>0.0</td>\n",
       "      <td>0.0</td>\n",
       "      <td>0.0</td>\n",
       "      <td>...</td>\n",
       "      <td>2010.000000</td>\n",
       "      <td>0.010000</td>\n",
       "      <td>0.010000</td>\n",
       "      <td>0.308</td>\n",
       "      <td>0.012</td>\n",
       "      <td>-0.014</td>\n",
       "      <td>152.0</td>\n",
       "      <td>76.0</td>\n",
       "      <td>0.53</td>\n",
       "      <td>0.0</td>\n",
       "    </tr>\n",
       "    <tr>\n",
       "      <th>4709</th>\n",
       "      <td>0.0</td>\n",
       "      <td>0.0</td>\n",
       "      <td>0.0</td>\n",
       "      <td>1.0</td>\n",
       "      <td>0.0</td>\n",
       "      <td>0.0</td>\n",
       "      <td>0.0</td>\n",
       "      <td>0.0</td>\n",
       "      <td>0.0</td>\n",
       "      <td>0.0</td>\n",
       "      <td>...</td>\n",
       "      <td>1959.000000</td>\n",
       "      <td>2.220000</td>\n",
       "      <td>1.810000</td>\n",
       "      <td>0.485</td>\n",
       "      <td>0.009</td>\n",
       "      <td>-0.012</td>\n",
       "      <td>151.0</td>\n",
       "      <td>83.0</td>\n",
       "      <td>0.27</td>\n",
       "      <td>0.0</td>\n",
       "    </tr>\n",
       "    <tr>\n",
       "      <th>4710</th>\n",
       "      <td>0.0</td>\n",
       "      <td>1.0</td>\n",
       "      <td>0.0</td>\n",
       "      <td>0.0</td>\n",
       "      <td>0.0</td>\n",
       "      <td>0.0</td>\n",
       "      <td>0.0</td>\n",
       "      <td>0.0</td>\n",
       "      <td>0.0</td>\n",
       "      <td>0.0</td>\n",
       "      <td>...</td>\n",
       "      <td>1983.071078</td>\n",
       "      <td>2.220000</td>\n",
       "      <td>1.810000</td>\n",
       "      <td>0.540</td>\n",
       "      <td>0.010</td>\n",
       "      <td>-0.014</td>\n",
       "      <td>363.0</td>\n",
       "      <td>198.0</td>\n",
       "      <td>0.26</td>\n",
       "      <td>0.0</td>\n",
       "    </tr>\n",
       "  </tbody>\n",
       "</table>\n",
       "<p>4711 rows × 74 columns</p>\n",
       "</div>"
      ],
      "text/plain": [
       "      cat__type_g_Biomass  cat__type_g_Fossil Brown coal/Lignite  \\\n",
       "0                     0.0                                    0.0   \n",
       "1                     0.0                                    0.0   \n",
       "2                     0.0                                    0.0   \n",
       "3                     0.0                                    0.0   \n",
       "4                     0.0                                    1.0   \n",
       "...                   ...                                    ...   \n",
       "4706                  0.0                                    0.0   \n",
       "4707                  0.0                                    0.0   \n",
       "4708                  0.0                                    0.0   \n",
       "4709                  0.0                                    0.0   \n",
       "4710                  0.0                                    1.0   \n",
       "\n",
       "      cat__type_g_Fossil Gas  cat__type_g_Fossil Hard coal  \\\n",
       "0                        0.0                           0.0   \n",
       "1                        0.0                           0.0   \n",
       "2                        0.0                           1.0   \n",
       "3                        0.0                           0.0   \n",
       "4                        0.0                           0.0   \n",
       "...                      ...                           ...   \n",
       "4706                     1.0                           0.0   \n",
       "4707                     0.0                           0.0   \n",
       "4708                     1.0                           0.0   \n",
       "4709                     0.0                           1.0   \n",
       "4710                     0.0                           0.0   \n",
       "\n",
       "      cat__type_g_Fossil Oil  cat__type_g_Fossil Oil shale  \\\n",
       "0                        0.0                           0.0   \n",
       "1                        0.0                           0.0   \n",
       "2                        0.0                           0.0   \n",
       "3                        0.0                           0.0   \n",
       "4                        0.0                           0.0   \n",
       "...                      ...                           ...   \n",
       "4706                     0.0                           0.0   \n",
       "4707                     0.0                           0.0   \n",
       "4708                     0.0                           0.0   \n",
       "4709                     0.0                           0.0   \n",
       "4710                     0.0                           0.0   \n",
       "\n",
       "      cat__type_g_Hydro Pumped Storage  \\\n",
       "0                                  0.0   \n",
       "1                                  1.0   \n",
       "2                                  0.0   \n",
       "3                                  0.0   \n",
       "4                                  0.0   \n",
       "...                                ...   \n",
       "4706                               0.0   \n",
       "4707                               0.0   \n",
       "4708                               0.0   \n",
       "4709                               0.0   \n",
       "4710                               0.0   \n",
       "\n",
       "      cat__type_g_Hydro Run-of-river and poundage  \\\n",
       "0                                             0.0   \n",
       "1                                             0.0   \n",
       "2                                             0.0   \n",
       "3                                             1.0   \n",
       "4                                             0.0   \n",
       "...                                           ...   \n",
       "4706                                          0.0   \n",
       "4707                                          0.0   \n",
       "4708                                          0.0   \n",
       "4709                                          0.0   \n",
       "4710                                          0.0   \n",
       "\n",
       "      cat__type_g_Hydro Water Reservoir  cat__type_g_Nuclear  ...  \\\n",
       "0                                   0.0                  1.0  ...   \n",
       "1                                   0.0                  0.0  ...   \n",
       "2                                   0.0                  0.0  ...   \n",
       "3                                   0.0                  0.0  ...   \n",
       "4                                   0.0                  0.0  ...   \n",
       "...                                 ...                  ...  ...   \n",
       "4706                                0.0                  0.0  ...   \n",
       "4707                                0.0                  1.0  ...   \n",
       "4708                                0.0                  0.0  ...   \n",
       "4709                                0.0                  0.0  ...   \n",
       "4710                                0.0                  0.0  ...   \n",
       "\n",
       "      num__year_commissioned  num__water_withdrawal  num__water_consumption  \\\n",
       "0                1985.000000             167.870000                1.020000   \n",
       "1                1983.071078              42.976691                0.980236   \n",
       "2                1969.000000               2.400000                1.870000   \n",
       "3                1983.071078              42.976691                0.980236   \n",
       "4                1981.000000               2.220000                1.810000   \n",
       "...                      ...                    ...                     ...   \n",
       "4706             2009.000000              43.070000                0.380000   \n",
       "4707             1988.000000               4.170000                2.540000   \n",
       "4708             2010.000000               0.010000                0.010000   \n",
       "4709             1959.000000               2.220000                1.810000   \n",
       "4710             1983.071078               2.220000                1.810000   \n",
       "\n",
       "      num__min_load  num__ramp_up  num__ramp_down  num__minimum_up_time  \\\n",
       "0             0.498         0.009          -0.012                1694.0   \n",
       "1             0.078         0.015          -0.015                  60.0   \n",
       "2             0.479         0.009          -0.013                 221.0   \n",
       "3             0.200         0.015          -0.015                 307.0   \n",
       "4             0.540         0.010          -0.014                 363.0   \n",
       "...             ...           ...             ...                   ...   \n",
       "4706          0.308         0.012          -0.014                 152.0   \n",
       "4707          0.498         0.009          -0.012                1694.0   \n",
       "4708          0.308         0.012          -0.014                 152.0   \n",
       "4709          0.485         0.009          -0.012                 151.0   \n",
       "4710          0.540         0.010          -0.014                 363.0   \n",
       "\n",
       "      num__minimum_down_time  num__eff  num__Renewable  \n",
       "0                      342.0      1.00             0.0  \n",
       "1                       57.0      1.00             1.0  \n",
       "2                      134.0      0.36             0.0  \n",
       "3                       63.0      1.00             1.0  \n",
       "4                      198.0      0.28             0.0  \n",
       "...                      ...       ...             ...  \n",
       "4706                    76.0      0.54             0.0  \n",
       "4707                   342.0      1.00             0.0  \n",
       "4708                    76.0      0.53             0.0  \n",
       "4709                    83.0      0.27             0.0  \n",
       "4710                   198.0      0.26             0.0  \n",
       "\n",
       "[4711 rows x 74 columns]"
      ]
     },
     "execution_count": 98,
     "metadata": {},
     "output_type": "execute_result"
    }
   ],
   "source": [
    "X_train_trans.to_csv('MODELLING DATA/training_features.csv', index=False)\n",
    "X_train_trans"
   ]
  },
  {
   "cell_type": "markdown",
   "metadata": {},
   "source": [
    "# Modelling"
   ]
  },
  {
   "cell_type": "markdown",
   "metadata": {},
   "source": [
    "Try several regression models and evaluate them"
   ]
  },
  {
   "cell_type": "code",
   "execution_count": 99,
   "metadata": {},
   "outputs": [],
   "source": [
    "from sklearn.linear_model import LinearRegression, Ridge, Lasso\n",
    "from sklearn.tree import DecisionTreeRegressor\n",
    "from sklearn.ensemble import RandomForestRegressor, GradientBoostingRegressor\n",
    "\n",
    "LR = LinearRegression()\n",
    "ridge = Ridge()\n",
    "lasso = Lasso()\n",
    "tree = DecisionTreeRegressor()\n",
    "forest = RandomForestRegressor()\n",
    "boost = GradientBoostingRegressor()"
   ]
  },
  {
   "cell_type": "code",
   "execution_count": 100,
   "metadata": {},
   "outputs": [
    {
     "name": "stderr",
     "output_type": "stream",
     "text": [
      "c:\\Users\\danip\\Documents\\Python venvs\\ml_venv\\lib\\site-packages\\sklearn\\linear_model\\_ridge.py:216: LinAlgWarning: Ill-conditioned matrix (rcond=4.78354e-17): result may not be accurate.\n",
      "  return linalg.solve(A, Xy, assume_a=\"pos\", overwrite_a=True).T\n",
      "c:\\Users\\danip\\Documents\\Python venvs\\ml_venv\\lib\\site-packages\\sklearn\\linear_model\\_coordinate_descent.py:631: ConvergenceWarning: Objective did not converge. You might want to increase the number of iterations, check the scale of the features or consider increasing regularisation. Duality gap: 1.425e+15, tolerance: 2.209e+12\n",
      "  model = cd_fast.enet_coordinate_descent(\n"
     ]
    },
    {
     "data": {
      "text/html": [
       "<style>#sk-container-id-2 {color: black;background-color: white;}#sk-container-id-2 pre{padding: 0;}#sk-container-id-2 div.sk-toggleable {background-color: white;}#sk-container-id-2 label.sk-toggleable__label {cursor: pointer;display: block;width: 100%;margin-bottom: 0;padding: 0.3em;box-sizing: border-box;text-align: center;}#sk-container-id-2 label.sk-toggleable__label-arrow:before {content: \"▸\";float: left;margin-right: 0.25em;color: #696969;}#sk-container-id-2 label.sk-toggleable__label-arrow:hover:before {color: black;}#sk-container-id-2 div.sk-estimator:hover label.sk-toggleable__label-arrow:before {color: black;}#sk-container-id-2 div.sk-toggleable__content {max-height: 0;max-width: 0;overflow: hidden;text-align: left;background-color: #f0f8ff;}#sk-container-id-2 div.sk-toggleable__content pre {margin: 0.2em;color: black;border-radius: 0.25em;background-color: #f0f8ff;}#sk-container-id-2 input.sk-toggleable__control:checked~div.sk-toggleable__content {max-height: 200px;max-width: 100%;overflow: auto;}#sk-container-id-2 input.sk-toggleable__control:checked~label.sk-toggleable__label-arrow:before {content: \"▾\";}#sk-container-id-2 div.sk-estimator input.sk-toggleable__control:checked~label.sk-toggleable__label {background-color: #d4ebff;}#sk-container-id-2 div.sk-label input.sk-toggleable__control:checked~label.sk-toggleable__label {background-color: #d4ebff;}#sk-container-id-2 input.sk-hidden--visually {border: 0;clip: rect(1px 1px 1px 1px);clip: rect(1px, 1px, 1px, 1px);height: 1px;margin: -1px;overflow: hidden;padding: 0;position: absolute;width: 1px;}#sk-container-id-2 div.sk-estimator {font-family: monospace;background-color: #f0f8ff;border: 1px dotted black;border-radius: 0.25em;box-sizing: border-box;margin-bottom: 0.5em;}#sk-container-id-2 div.sk-estimator:hover {background-color: #d4ebff;}#sk-container-id-2 div.sk-parallel-item::after {content: \"\";width: 100%;border-bottom: 1px solid gray;flex-grow: 1;}#sk-container-id-2 div.sk-label:hover label.sk-toggleable__label {background-color: #d4ebff;}#sk-container-id-2 div.sk-serial::before {content: \"\";position: absolute;border-left: 1px solid gray;box-sizing: border-box;top: 0;bottom: 0;left: 50%;z-index: 0;}#sk-container-id-2 div.sk-serial {display: flex;flex-direction: column;align-items: center;background-color: white;padding-right: 0.2em;padding-left: 0.2em;position: relative;}#sk-container-id-2 div.sk-item {position: relative;z-index: 1;}#sk-container-id-2 div.sk-parallel {display: flex;align-items: stretch;justify-content: center;background-color: white;position: relative;}#sk-container-id-2 div.sk-item::before, #sk-container-id-2 div.sk-parallel-item::before {content: \"\";position: absolute;border-left: 1px solid gray;box-sizing: border-box;top: 0;bottom: 0;left: 50%;z-index: -1;}#sk-container-id-2 div.sk-parallel-item {display: flex;flex-direction: column;z-index: 1;position: relative;background-color: white;}#sk-container-id-2 div.sk-parallel-item:first-child::after {align-self: flex-end;width: 50%;}#sk-container-id-2 div.sk-parallel-item:last-child::after {align-self: flex-start;width: 50%;}#sk-container-id-2 div.sk-parallel-item:only-child::after {width: 0;}#sk-container-id-2 div.sk-dashed-wrapped {border: 1px dashed gray;margin: 0 0.4em 0.5em 0.4em;box-sizing: border-box;padding-bottom: 0.4em;background-color: white;}#sk-container-id-2 div.sk-label label {font-family: monospace;font-weight: bold;display: inline-block;line-height: 1.2em;}#sk-container-id-2 div.sk-label-container {text-align: center;}#sk-container-id-2 div.sk-container {/* jupyter's `normalize.less` sets `[hidden] { display: none; }` but bootstrap.min.css set `[hidden] { display: none !important; }` so we also need the `!important` here to be able to override the default hidden behavior on the sphinx rendered scikit-learn.org. See: https://github.com/scikit-learn/scikit-learn/issues/21755 */display: inline-block !important;position: relative;}#sk-container-id-2 div.sk-text-repr-fallback {display: none;}</style><div id=\"sk-container-id-2\" class=\"sk-top-container\"><div class=\"sk-text-repr-fallback\"><pre>GradientBoostingRegressor()</pre><b>In a Jupyter environment, please rerun this cell to show the HTML representation or trust the notebook. <br />On GitHub, the HTML representation is unable to render, please try loading this page with nbviewer.org.</b></div><div class=\"sk-container\" hidden><div class=\"sk-item\"><div class=\"sk-estimator sk-toggleable\"><input class=\"sk-toggleable__control sk-hidden--visually\" id=\"sk-estimator-id-2\" type=\"checkbox\" checked><label for=\"sk-estimator-id-2\" class=\"sk-toggleable__label sk-toggleable__label-arrow\">GradientBoostingRegressor</label><div class=\"sk-toggleable__content\"><pre>GradientBoostingRegressor()</pre></div></div></div></div></div>"
      ],
      "text/plain": [
       "GradientBoostingRegressor()"
      ]
     },
     "execution_count": 100,
     "metadata": {},
     "output_type": "execute_result"
    }
   ],
   "source": [
    "LR.fit(X_train_trans,y_train)\n",
    "ridge.fit(X_train_trans,y_train)\n",
    "lasso.fit(X_train_trans,y_train)\n",
    "tree.fit(X_train_trans,y_train)\n",
    "forest.fit(X_train_trans,y_train)\n",
    "boost.fit(X_train_trans,y_train)"
   ]
  },
  {
   "cell_type": "code",
   "execution_count": 101,
   "metadata": {},
   "outputs": [],
   "source": [
    "# Fit and transform the data\n",
    "X_test_trans_np = preprocessor.transform(X_test)\n",
    "X_test_trans = pd.DataFrame(X_test_trans_np, columns=preprocessor.get_feature_names_out())"
   ]
  },
  {
   "cell_type": "code",
   "execution_count": 102,
   "metadata": {},
   "outputs": [
    {
     "name": "stdout",
     "output_type": "stream",
     "text": [
      "R^2 coefficient with default parameters:\n",
      "\n",
      "linear : 0.8576846465370673\n",
      "ridge : 0.8577972630259647\n",
      "lasso : 0.8577244205967526\n",
      "Tree : 0.9838482330716256\n",
      "Random forest : 0.9943135130987732\n",
      "Boosting : 0.9901964219649739\n"
     ]
    }
   ],
   "source": [
    "models = dict( zip(['linear','ridge','lasso','Tree','Random forest','Boosting'],\n",
    "                   [LR,ridge,lasso,tree,forest,boost]) )\n",
    "\n",
    "print('R^2 coefficient with default parameters:\\n')\n",
    "for model_name in models:\n",
    "    print(model_name,':',models[model_name].score(X_test_trans,y_test))"
   ]
  },
  {
   "cell_type": "code",
   "execution_count": 103,
   "metadata": {},
   "outputs": [],
   "source": [
    "from sklearn.metrics import mean_absolute_error, mean_squared_error, r2_score, explained_variance_score\n",
    "\n",
    "metrics = dict( zip(['MAE', 'MSE', 'r2', 'exp_variance'],\n",
    "                    [mean_absolute_error,mean_squared_error,r2_score,explained_variance_score]) )"
   ]
  },
  {
   "cell_type": "code",
   "execution_count": 104,
   "metadata": {},
   "outputs": [
    {
     "data": {
      "text/html": [
       "<div>\n",
       "<style scoped>\n",
       "    .dataframe tbody tr th:only-of-type {\n",
       "        vertical-align: middle;\n",
       "    }\n",
       "\n",
       "    .dataframe tbody tr th {\n",
       "        vertical-align: top;\n",
       "    }\n",
       "\n",
       "    .dataframe thead th {\n",
       "        text-align: right;\n",
       "    }\n",
       "</style>\n",
       "<table border=\"1\" class=\"dataframe\">\n",
       "  <thead>\n",
       "    <tr style=\"text-align: right;\">\n",
       "      <th></th>\n",
       "      <th>MAE</th>\n",
       "      <th>MSE</th>\n",
       "      <th>r2</th>\n",
       "      <th>exp_variance</th>\n",
       "    </tr>\n",
       "  </thead>\n",
       "  <tbody>\n",
       "    <tr>\n",
       "      <th>linear</th>\n",
       "      <td>581872.681566</td>\n",
       "      <td>7.292486e+11</td>\n",
       "      <td>0.857685</td>\n",
       "      <td>0.857730</td>\n",
       "    </tr>\n",
       "    <tr>\n",
       "      <th>ridge</th>\n",
       "      <td>580769.507634</td>\n",
       "      <td>7.286715e+11</td>\n",
       "      <td>0.857797</td>\n",
       "      <td>0.857840</td>\n",
       "    </tr>\n",
       "    <tr>\n",
       "      <th>lasso</th>\n",
       "      <td>581734.861743</td>\n",
       "      <td>7.290448e+11</td>\n",
       "      <td>0.857724</td>\n",
       "      <td>0.857770</td>\n",
       "    </tr>\n",
       "    <tr>\n",
       "      <th>Tree</th>\n",
       "      <td>91015.190109</td>\n",
       "      <td>8.276446e+10</td>\n",
       "      <td>0.983848</td>\n",
       "      <td>0.983859</td>\n",
       "    </tr>\n",
       "    <tr>\n",
       "      <th>Random forest</th>\n",
       "      <td>57779.780333</td>\n",
       "      <td>2.913855e+10</td>\n",
       "      <td>0.994314</td>\n",
       "      <td>0.994323</td>\n",
       "    </tr>\n",
       "    <tr>\n",
       "      <th>Boosting</th>\n",
       "      <td>123556.400403</td>\n",
       "      <td>5.023524e+10</td>\n",
       "      <td>0.990196</td>\n",
       "      <td>0.990211</td>\n",
       "    </tr>\n",
       "  </tbody>\n",
       "</table>\n",
       "</div>"
      ],
      "text/plain": [
       "                         MAE           MSE        r2  exp_variance\n",
       "linear         581872.681566  7.292486e+11  0.857685      0.857730\n",
       "ridge          580769.507634  7.286715e+11  0.857797      0.857840\n",
       "lasso          581734.861743  7.290448e+11  0.857724      0.857770\n",
       "Tree            91015.190109  8.276446e+10  0.983848      0.983859\n",
       "Random forest   57779.780333  2.913855e+10  0.994314      0.994323\n",
       "Boosting       123556.400403  5.023524e+10  0.990196      0.990211"
      ]
     },
     "execution_count": 104,
     "metadata": {},
     "output_type": "execute_result"
    }
   ],
   "source": [
    "#Create array of metrics\n",
    "results = np.zeros([len(models),len(metrics)])\n",
    "\n",
    "for i,model_name in enumerate(models):\n",
    "    for j,metric_name in enumerate(metrics):\n",
    "        metric = metrics[metric_name]\n",
    "        model = models[model_name]\n",
    "        results[i,j] = metric(y_test,model.predict(X_test_trans))\n",
    "\n",
    "scoring = pd.DataFrame(results,columns=metrics.keys(),index=models.keys())\n",
    "scoring"
   ]
  },
  {
   "cell_type": "code",
   "execution_count": 105,
   "metadata": {},
   "outputs": [
    {
     "data": {
      "text/plain": [
       "Index(['linear', 'ridge', 'lasso', 'Tree', 'Random forest', 'Boosting'], dtype='object')"
      ]
     },
     "execution_count": 105,
     "metadata": {},
     "output_type": "execute_result"
    }
   ],
   "source": [
    "scoring.index"
   ]
  },
  {
   "cell_type": "code",
   "execution_count": 106,
   "metadata": {},
   "outputs": [
    {
     "data": {
      "image/png": "[encoded data removed]",
      "text/plain": [
       "<Figure size 640x480 with 1 Axes>"
      ]
     },
     "metadata": {},
     "output_type": "display_data"
    }
   ],
   "source": [
    "scoring.plot.barh(y='r2')\n",
    "plt.xlim([0.6,1])\n",
    "for i,model in enumerate(scoring.index):\n",
    "    score = scoring['r2'].loc[model]\n",
    "    plt.text(score-0.05,i,str(round(score,4)), color='white')"
   ]
  },
  {
   "cell_type": "markdown",
   "metadata": {},
   "source": [
    "## Use the Decision Tree"
   ]
  },
  {
   "cell_type": "markdown",
   "metadata": {},
   "source": [
    "Choose the decision tree for further analysis as it performs relatively close to the random forest and gradient boosting models while being simpler."
   ]
  },
  {
   "cell_type": "code",
   "execution_count": 107,
   "metadata": {},
   "outputs": [
    {
     "data": {
      "text/plain": [
       "Text(0.5, 1.0, 'Top 8 feature importances of decision tree model')"
      ]
     },
     "execution_count": 107,
     "metadata": {},
     "output_type": "execute_result"
    },
    {
     "data": {
      "image/png": "[encoded data removed]",
      "text/plain": [
       "<Figure size 640x480 with 1 Axes>"
      ]
     },
     "metadata": {},
     "output_type": "display_data"
    }
   ],
   "source": [
    "num_features = 8\n",
    "\n",
    "importances = pd.Series(tree.feature_importances_, index=X_train_trans.columns)\n",
    "importances.sort_values(ascending=False).head(num_features).plot(kind='barh')\n",
    "plt.title('Top {} feature importances of decision tree model'.format(num_features))"
   ]
  },
  {
   "cell_type": "markdown",
   "metadata": {},
   "source": [
    "Besides from the source of the emission estimation, the most important features for predicting specific emissions are the capacity factor of the plant, the efficiency and time related features such as ramp-up and time coverage."
   ]
  },
  {
   "cell_type": "markdown",
   "metadata": {},
   "source": [
    "## Save model data"
   ]
  },
  {
   "cell_type": "markdown",
   "metadata": {},
   "source": [
    "Save the decision tree model along with the other variables relevant for modelling."
   ]
  },
  {
   "cell_type": "code",
   "execution_count": 108,
   "metadata": {},
   "outputs": [],
   "source": [
    "from joblib import dump, load\n",
    "dump(tree, 'MODELLING DATA/tree_model.joblib')\n",
    "\n",
    "import pickle\n",
    "with open('MODELLING DATA/train_test_data.pickle','wb') as file:\n",
    "    pickle.dump((X_train_trans, X_test_trans, y_train, y_test), file)\n",
    "with open('MODELLING DATA/preproc_data.pickle','wb') as file:\n",
    "    pickle.dump((X_train,X_test,categorical,numeric,preprocessor), file)\n"
   ]
  }
 ],
 "metadata": {
  "kernelspec": {
   "display_name": "ml_venv",
   "language": "python",
   "name": "python3"
  },
  "language_info": {
   "codemirror_mode": {
    "name": "ipython",
    "version": 3
   },
   "file_extension": ".py",
   "mimetype": "text/x-python",
   "name": "python",
   "nbconvert_exporter": "python",
   "pygments_lexer": "ipython3",
   "version": "3.10.5"
  },
  "orig_nbformat": 4
 },
 "nbformat": 4,
 "nbformat_minor": 2
}
